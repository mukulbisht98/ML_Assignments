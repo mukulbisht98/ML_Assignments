{
 "cells": [
  {
   "cell_type": "code",
   "execution_count": 1,
   "metadata": {},
   "outputs": [],
   "source": [
    "#Question 1\n",
    "from sklearn.datasets import load_digits\n",
    "mnist=load_digits()"
   ]
  },
  {
   "cell_type": "code",
   "execution_count": 2,
   "metadata": {},
   "outputs": [],
   "source": [
    "#Question 2\n",
    "x=mnist.data\n",
    "y=mnist.target\n",
    "\n",
    "from sklearn.model_selection import train_test_split\n",
    "x_train, x_test, y_train, y_test = train_test_split(x, y, test_size = 0.2,random_state=0) "
   ]
  },
  {
   "cell_type": "code",
   "execution_count": 3,
   "metadata": {},
   "outputs": [],
   "source": [
    "#Question 3\n",
    "from sklearn.svm import SVC\n",
    "from sklearn.metrics import confusion_matrix, classification_report"
   ]
  },
  {
   "cell_type": "code",
   "execution_count": 4,
   "metadata": {},
   "outputs": [
    {
     "name": "stdout",
     "output_type": "stream",
     "text": [
      "When kernel = 'linear'\n",
      "\n",
      "Confusion Matrix:\n",
      " [[27  0  0  0  0  0  0  0  0  0]\n",
      " [ 0 34  0  0  0  0  0  0  1  0]\n",
      " [ 0  0 36  0  0  0  0  0  0  0]\n",
      " [ 0  0  0 29  0  0  0  0  0  0]\n",
      " [ 0  0  0  0 30  0  0  0  0  0]\n",
      " [ 0  0  0  0  0 39  0  0  0  1]\n",
      " [ 0  1  0  0  0  0 43  0  0  0]\n",
      " [ 0  0  0  0  1  0  0 38  0  0]\n",
      " [ 0  1  1  0  0  0  0  0 37  0]\n",
      " [ 0  0  0  1  0  1  0  0  0 39]]\n",
      "\n",
      "\n",
      "Classification Report:\n",
      "               precision    recall  f1-score   support\n",
      "\n",
      "           0       1.00      1.00      1.00        27\n",
      "           1       0.94      0.97      0.96        35\n",
      "           2       0.97      1.00      0.99        36\n",
      "           3       0.97      1.00      0.98        29\n",
      "           4       0.97      1.00      0.98        30\n",
      "           5       0.97      0.97      0.97        40\n",
      "           6       1.00      0.98      0.99        44\n",
      "           7       1.00      0.97      0.99        39\n",
      "           8       0.97      0.95      0.96        39\n",
      "           9       0.97      0.95      0.96        41\n",
      "\n",
      "   micro avg       0.98      0.98      0.98       360\n",
      "   macro avg       0.98      0.98      0.98       360\n",
      "weighted avg       0.98      0.98      0.98       360\n",
      "\n"
     ]
    }
   ],
   "source": [
    "# 3(a) Linear\n",
    "lclassifier = SVC(kernel='linear', degree=8)  \n",
    "lclassifier.fit(x_train, y_train) \n",
    "y_pred1 = lclassifier.predict(x_test)\n",
    "print( \"When kernel = 'linear'\\n\")\n",
    "print (\"Confusion Matrix:\\n\",confusion_matrix(y_test, y_pred1))\n",
    "print(\"\\n\\nClassification Report:\\n\", classification_report(y_test, y_pred1))\n"
   ]
  },
  {
   "cell_type": "code",
   "execution_count": 5,
   "metadata": {},
   "outputs": [
    {
     "name": "stdout",
     "output_type": "stream",
     "text": [
      "When kernel = 'poly'\n",
      "\n",
      "Confusion Matrix:\n",
      " [[27  0  0  0  0  0  0  0  0  0]\n",
      " [ 0 33  0  0  0  1  0  0  1  0]\n",
      " [ 0  0 35  0  0  0  0  1  0  0]\n",
      " [ 0  0  0 29  0  0  0  0  0  0]\n",
      " [ 0  0  0  0 30  0  0  0  0  0]\n",
      " [ 0  0  0  0  0 39  0  0  0  1]\n",
      " [ 0  1  0  0  0  0 43  0  0  0]\n",
      " [ 0  1  0  0  0  0  0 38  0  0]\n",
      " [ 0  1  0  1  0  1  0  0 36  0]\n",
      " [ 0  0  0  0  0  1  0  0  0 40]]\n",
      "\n",
      "\n",
      "Classification Report:\n",
      "               precision    recall  f1-score   support\n",
      "\n",
      "           0       1.00      1.00      1.00        27\n",
      "           1       0.92      0.94      0.93        35\n",
      "           2       1.00      0.97      0.99        36\n",
      "           3       0.97      1.00      0.98        29\n",
      "           4       1.00      1.00      1.00        30\n",
      "           5       0.93      0.97      0.95        40\n",
      "           6       1.00      0.98      0.99        44\n",
      "           7       0.97      0.97      0.97        39\n",
      "           8       0.97      0.92      0.95        39\n",
      "           9       0.98      0.98      0.98        41\n",
      "\n",
      "   micro avg       0.97      0.97      0.97       360\n",
      "   macro avg       0.97      0.97      0.97       360\n",
      "weighted avg       0.97      0.97      0.97       360\n",
      "\n"
     ]
    },
    {
     "name": "stderr",
     "output_type": "stream",
     "text": [
      "C:\\Users\\Mukul\\Anaconda3\\lib\\site-packages\\sklearn\\svm\\base.py:196: FutureWarning: The default value of gamma will change from 'auto' to 'scale' in version 0.22 to account better for unscaled features. Set gamma explicitly to 'auto' or 'scale' to avoid this warning.\n",
      "  \"avoid this warning.\", FutureWarning)\n"
     ]
    }
   ],
   "source": [
    "# 3(b) Poly\n",
    "pclassifier = SVC(kernel='poly', degree=8)  \n",
    "pclassifier.fit(x_train, y_train) \n",
    "y_pred2 = pclassifier.predict(x_test)\n",
    "print(\"When kernel = 'poly'\\n\")\n",
    "print(\"Confusion Matrix:\\n\",confusion_matrix(y_test, y_pred2))\n",
    "print (\"\\n\\nClassification Report:\\n\", classification_report(y_test, y_pred2))"
   ]
  },
  {
   "cell_type": "code",
   "execution_count": 6,
   "metadata": {},
   "outputs": [
    {
     "name": "stderr",
     "output_type": "stream",
     "text": [
      "C:\\Users\\Mukul\\Anaconda3\\lib\\site-packages\\sklearn\\svm\\base.py:196: FutureWarning: The default value of gamma will change from 'auto' to 'scale' in version 0.22 to account better for unscaled features. Set gamma explicitly to 'auto' or 'scale' to avoid this warning.\n",
      "  \"avoid this warning.\", FutureWarning)\n"
     ]
    },
    {
     "name": "stdout",
     "output_type": "stream",
     "text": [
      "Confusion Matrix:\n",
      " [[18  0  0  9  0  0  0  0  0  0]\n",
      " [ 0  6  0 29  0  0  0  0  0  0]\n",
      " [ 0  0  9 27  0  0  0  0  0  0]\n",
      " [ 0  0  0 29  0  0  0  0  0  0]\n",
      " [ 0  0  0 15 15  0  0  0  0  0]\n",
      " [ 0  0  0 34  0  6  0  0  0  0]\n",
      " [ 0  0  0 27  0  0 17  0  0  0]\n",
      " [ 0  0  0 30  0  0  0  9  0  0]\n",
      " [ 0  0  0 39  0  0  0  0  0  0]\n",
      " [ 0  0  0 33  0  0  0  0  0  8]]\n",
      "\n",
      "\n",
      "Classification Report:\n",
      "               precision    recall  f1-score   support\n",
      "\n",
      "           0       1.00      0.67      0.80        27\n",
      "           1       1.00      0.17      0.29        35\n",
      "           2       1.00      0.25      0.40        36\n",
      "           3       0.11      1.00      0.19        29\n",
      "           4       1.00      0.50      0.67        30\n",
      "           5       1.00      0.15      0.26        40\n",
      "           6       1.00      0.39      0.56        44\n",
      "           7       1.00      0.23      0.38        39\n",
      "           8       0.00      0.00      0.00        39\n",
      "           9       1.00      0.20      0.33        41\n",
      "\n",
      "   micro avg       0.33      0.33      0.33       360\n",
      "   macro avg       0.81      0.36      0.39       360\n",
      "weighted avg       0.82      0.33      0.37       360\n",
      "\n"
     ]
    },
    {
     "name": "stderr",
     "output_type": "stream",
     "text": [
      "C:\\Users\\Mukul\\Anaconda3\\lib\\site-packages\\sklearn\\metrics\\classification.py:1143: UndefinedMetricWarning: Precision and F-score are ill-defined and being set to 0.0 in labels with no predicted samples.\n",
      "  'precision', 'predicted', average, warn_for)\n"
     ]
    }
   ],
   "source": [
    "#3(c)  Gaussian\n",
    "gclassifier = SVC(kernel='rbf')  \n",
    "gclassifier.fit(x_train, y_train) \n",
    "y_pred = gclassifier.predict(x_test)\n",
    "print (\"Confusion Matrix:\\n\",confusion_matrix(y_test, y_pred))\n",
    "print (\"\\n\\nClassification Report:\\n\", classification_report(y_test, y_pred))"
   ]
  },
  {
   "cell_type": "code",
   "execution_count": 7,
   "metadata": {},
   "outputs": [
    {
     "name": "stderr",
     "output_type": "stream",
     "text": [
      "C:\\Users\\Mukul\\Anaconda3\\lib\\site-packages\\sklearn\\svm\\base.py:196: FutureWarning: The default value of gamma will change from 'auto' to 'scale' in version 0.22 to account better for unscaled features. Set gamma explicitly to 'auto' or 'scale' to avoid this warning.\n",
      "  \"avoid this warning.\", FutureWarning)\n"
     ]
    },
    {
     "name": "stdout",
     "output_type": "stream",
     "text": [
      "Confusion Matrix:\n",
      " [[ 0  0  0 27  0  0  0  0  0  0]\n",
      " [ 0  0  0 35  0  0  0  0  0  0]\n",
      " [ 0  0  0 36  0  0  0  0  0  0]\n",
      " [ 0  0  0 29  0  0  0  0  0  0]\n",
      " [ 0  0  0 30  0  0  0  0  0  0]\n",
      " [ 0  0  0 40  0  0  0  0  0  0]\n",
      " [ 0  0  0 44  0  0  0  0  0  0]\n",
      " [ 0  0  0 39  0  0  0  0  0  0]\n",
      " [ 0  0  0 39  0  0  0  0  0  0]\n",
      " [ 0  0  0 41  0  0  0  0  0  0]]\n",
      "\n",
      "\n",
      "Classification Report:\n",
      "               precision    recall  f1-score   support\n",
      "\n",
      "           0       0.00      0.00      0.00        27\n",
      "           1       0.00      0.00      0.00        35\n",
      "           2       0.00      0.00      0.00        36\n",
      "           3       0.08      1.00      0.15        29\n",
      "           4       0.00      0.00      0.00        30\n",
      "           5       0.00      0.00      0.00        40\n",
      "           6       0.00      0.00      0.00        44\n",
      "           7       0.00      0.00      0.00        39\n",
      "           8       0.00      0.00      0.00        39\n",
      "           9       0.00      0.00      0.00        41\n",
      "\n",
      "   micro avg       0.08      0.08      0.08       360\n",
      "   macro avg       0.01      0.10      0.01       360\n",
      "weighted avg       0.01      0.08      0.01       360\n",
      "\n"
     ]
    },
    {
     "name": "stderr",
     "output_type": "stream",
     "text": [
      "C:\\Users\\Mukul\\Anaconda3\\lib\\site-packages\\sklearn\\metrics\\classification.py:1143: UndefinedMetricWarning: Precision and F-score are ill-defined and being set to 0.0 in labels with no predicted samples.\n",
      "  'precision', 'predicted', average, warn_for)\n"
     ]
    }
   ],
   "source": [
    "# 3(d)\n",
    "sclassifier = SVC(kernel='sigmoid')  \n",
    "sclassifier.fit(x_train, y_train) \n",
    "y_pred = sclassifier.predict(x_test)\n",
    "print (\"Confusion Matrix:\\n\",confusion_matrix(y_test, y_pred))\n",
    "print (\"\\n\\nClassification Report:\\n\", classification_report(y_test, y_pred))"
   ]
  },
  {
   "cell_type": "code",
   "execution_count": null,
   "metadata": {},
   "outputs": [],
   "source": []
  }
 ],
 "metadata": {
  "kernelspec": {
   "display_name": "Python 3",
   "language": "python",
   "name": "python3"
  },
  "language_info": {
   "codemirror_mode": {
    "name": "ipython",
    "version": 3
   },
   "file_extension": ".py",
   "mimetype": "text/x-python",
   "name": "python",
   "nbconvert_exporter": "python",
   "pygments_lexer": "ipython3",
   "version": "3.7.1"
  }
 },
 "nbformat": 4,
 "nbformat_minor": 2
}
