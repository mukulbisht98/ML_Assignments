{
 "cells": [
  {
   "cell_type": "code",
   "execution_count": 1,
   "metadata": {},
   "outputs": [
    {
     "name": "stdout",
     "output_type": "stream",
     "text": [
      "0.0303030303030303\n"
     ]
    }
   ],
   "source": [
    "# Question 1\n",
    "\n",
    "def f1(a,b,c):\n",
    "    d = (c * b) / a\n",
    "    return d\n",
    "res = f1(11/36 ,6/36 ,2/36)\n",
    "print(res)"
   ]
  },
  {
   "cell_type": "code",
   "execution_count": 2,
   "metadata": {},
   "outputs": [
    {
     "name": "stdout",
     "output_type": "stream",
     "text": [
      "0.5833333333333334\n"
     ]
    }
   ],
   "source": [
    "# Question 2\n",
    "\n",
    "def f2(e1,e2,ae1,ae2):\n",
    "    return (e1*ae1)/(e2*ae2 + e1*ae1)\n",
    "a = 1/2\n",
    "b = 1/2\n",
    "c = 6/10\n",
    "d = 3/7\n",
    "res = f2(a,b,c,d)\n",
    "print(res)"
   ]
  },
  {
   "cell_type": "code",
   "execution_count": 3,
   "metadata": {},
   "outputs": [
    {
     "name": "stdout",
     "output_type": "stream",
     "text": [
      "0.2857142857142857\n"
     ]
    }
   ],
   "source": [
    "# Question 3\n",
    "def f3(e1,e2,ae1,ae2):\n",
    "    return (e1*ae1)/(e2*ae2 + e1*ae1)\n",
    "a = 2/3\n",
    "b = 1/3\n",
    "c = 1/6\n",
    "d = 5/6\n",
    "res = f3(a,b,c,d)\n",
    "print(res)"
   ]
  }
 ],
 "metadata": {
  "kernelspec": {
   "display_name": "Python 3",
   "language": "python",
   "name": "python3"
  },
  "language_info": {
   "codemirror_mode": {
    "name": "ipython",
    "version": 3
   },
   "file_extension": ".py",
   "mimetype": "text/x-python",
   "name": "python",
   "nbconvert_exporter": "python",
   "pygments_lexer": "ipython3",
   "version": "3.7.1"
  }
 },
 "nbformat": 4,
 "nbformat_minor": 2
}
