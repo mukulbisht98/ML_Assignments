{
 "cells": [
  {
   "cell_type": "code",
   "execution_count": 1,
   "metadata": {},
   "outputs": [
    {
     "name": "stdout",
     "output_type": "stream",
     "text": [
      "0.0303030303030303\n"
     ]
    }
   ],
   "source": [
    "# Question 1\n",
    "\n",
    "def f1(a,b,c):\n",
    "    d = (c * b) / a\n",
    "    return d\n",
    "res = f1(11/36 ,6/36 ,2/36)\n",
    "print(res)"
   ]
  },
  {
   "cell_type": "code",
   "execution_count": 2,
   "metadata": {},
   "outputs": [
    {
     "name": "stdout",
     "output_type": "stream",
     "text": [
      "0.4166666666666667\n"
     ]
    }
   ],
   "source": [
    "# Question 2\n",
    "\n",
    "def f2(a1,a2,aa1,aa2):\n",
    "    aa2 = (aa2 * a2) / (aa2 * a2 + aa1 * a1)\n",
    "    return aa2\n",
    "res=f2(1/2 , 1/2 , 6/10 , 3/7)\n",
    "print(res)"
   ]
  },
  {
   "cell_type": "code",
   "execution_count": 3,
   "metadata": {},
   "outputs": [
    {
     "name": "stdout",
     "output_type": "stream",
     "text": [
      "0.2857142857142857\n"
     ]
    }
   ],
   "source": [
    "# Question 3\n",
    "\n",
    "def f3(t,l,f,nf):\n",
    "    f = (f * t) / (f * t + nf * l)\n",
    "    return f\n",
    "res = f3(2/3 , 1/3 , 1/6 , 5/6)\n",
    "print(res)"
   ]
  }
 ],
 "metadata": {
  "kernelspec": {
   "display_name": "Python 3",
   "language": "python",
   "name": "python3"
  },
  "language_info": {
   "codemirror_mode": {
    "name": "ipython",
    "version": 3
   },
   "file_extension": ".py",
   "mimetype": "text/x-python",
   "name": "python",
   "nbconvert_exporter": "python",
   "pygments_lexer": "ipython3",
   "version": "3.7.1"
  }
 },
 "nbformat": 4,
 "nbformat_minor": 2
}
