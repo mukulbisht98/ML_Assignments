{
 "cells": [
  {
   "cell_type": "code",
   "execution_count": 1,
   "metadata": {},
   "outputs": [],
   "source": [
    "import pandas as pd\n",
    "import numpy as np"
   ]
  },
  {
   "cell_type": "code",
   "execution_count": 2,
   "metadata": {},
   "outputs": [
    {
     "name": "stdout",
     "output_type": "stream",
     "text": [
      "             Name  age                     email-id   phone no.\n",
      "0     mukul bisht   20       mukulbisht98@gmail.com  1234567890\n",
      "1     aira kapoor   20           airakapr@gmail.com  9876543210\n",
      "2  vaibhav sharma   20  vaibhavsharma2199@gmail.com  1627384950\n",
      "3   darpan sharma   19        asharma6890@gmail.com  5948372610\n",
      "4    konark saini   20      konarksaini11@gmail.com  9999999999\n"
     ]
    }
   ],
   "source": [
    "# Question 1\n",
    "\n",
    "df = pd.DataFrame({\n",
    "    'Name':['mukul bisht', 'aira kapoor', 'vaibhav sharma', 'darpan sharma', 'konark saini'],\n",
    "    'age':[20, 20, 20, 19, 20],\n",
    "    'email-id':['mukulbisht98@gmail.com', 'airakapr@gmail.com', 'vaibhavsharma2199@gmail.com',\n",
    "                'asharma6890@gmail.com', 'konarksaini11@gmail.com'],\n",
    "    'phone no.':[1234567890, 9876543210, 1627384950, 5948372610, 9999999999]\n",
    "})\n",
    "\n",
    "print(df)"
   ]
  },
  {
   "cell_type": "code",
   "execution_count": 3,
   "metadata": {},
   "outputs": [],
   "source": [
    "# Question 2\n",
    "\n",
    "df = pd.read_csv('data.csv')"
   ]
  },
  {
   "cell_type": "code",
   "execution_count": 4,
   "metadata": {},
   "outputs": [
    {
     "name": "stdout",
     "output_type": "stream",
     "text": [
      "        Date  Location  MinTemp  MaxTemp  Rainfall  Evaporation  Sunshine  \\\n",
      "0  11/1/2007  Canberra      8.0     24.3       0.0          3.4       6.3   \n",
      "1  11/2/2007  Canberra     14.0     26.9       3.6          4.4       9.7   \n",
      "2  11/3/2007  Canberra     13.7     23.4       3.6          5.8       3.3   \n",
      "3  11/4/2007  Canberra     13.3     15.5      39.8          7.2       9.1   \n",
      "4  11/5/2007  Canberra      7.6     16.1       2.8          5.6      10.6   \n",
      "\n",
      "  WindGustDir  WindGustSpeed WindDir9am      ...      Humidity3pm  \\\n",
      "0          NW           30.0         SW      ...               29   \n",
      "1         ENE           39.0          E      ...               36   \n",
      "2          NW           85.0          N      ...               69   \n",
      "3          NW           54.0        WNW      ...               56   \n",
      "4         SSE           50.0        SSE      ...               49   \n",
      "\n",
      "   Pressure9am  Pressure3pm  Cloud9am  Cloud3pm  Temp9am  Temp3pm  RainToday  \\\n",
      "0       1019.7       1015.0         7         7     14.4     23.6         No   \n",
      "1       1012.4       1008.4         5         3     17.5     25.7        Yes   \n",
      "2       1009.5       1007.2         8         7     15.4     20.2        Yes   \n",
      "3       1005.5       1007.0         2         7     13.5     14.1        Yes   \n",
      "4       1018.3       1018.5         7         7     11.1     15.4        Yes   \n",
      "\n",
      "   RISK_MM  RainTomorrow  \n",
      "0      3.6           Yes  \n",
      "1      3.6           Yes  \n",
      "2     39.8           Yes  \n",
      "3      2.8           Yes  \n",
      "4      0.0            No  \n",
      "\n",
      "[5 rows x 24 columns]\n"
     ]
    }
   ],
   "source": [
    "# a.)\n",
    "\n",
    "print(df.head())"
   ]
  },
  {
   "cell_type": "code",
   "execution_count": 5,
   "metadata": {},
   "outputs": [
    {
     "name": "stdout",
     "output_type": "stream",
     "text": [
      "         Date  Location  MinTemp  MaxTemp  Rainfall  Evaporation  Sunshine  \\\n",
      "0   11/1/2007  Canberra      8.0     24.3       0.0          3.4       6.3   \n",
      "1   11/2/2007  Canberra     14.0     26.9       3.6          4.4       9.7   \n",
      "2   11/3/2007  Canberra     13.7     23.4       3.6          5.8       3.3   \n",
      "3   11/4/2007  Canberra     13.3     15.5      39.8          7.2       9.1   \n",
      "4   11/5/2007  Canberra      7.6     16.1       2.8          5.6      10.6   \n",
      "5   11/6/2007  Canberra      6.2     16.9       0.0          5.8       8.2   \n",
      "6   11/7/2007  Canberra      6.1     18.2       0.2          4.2       8.4   \n",
      "7   11/8/2007  Canberra      8.3     17.0       0.0          5.6       4.6   \n",
      "8   11/9/2007  Canberra      8.8     19.5       0.0          4.0       4.1   \n",
      "9  11/10/2007  Canberra      8.4     22.8      16.2          5.4       7.7   \n",
      "\n",
      "  WindGustDir  WindGustSpeed WindDir9am      ...      Humidity3pm  \\\n",
      "0          NW           30.0         SW      ...               29   \n",
      "1         ENE           39.0          E      ...               36   \n",
      "2          NW           85.0          N      ...               69   \n",
      "3          NW           54.0        WNW      ...               56   \n",
      "4         SSE           50.0        SSE      ...               49   \n",
      "5          SE           44.0         SE      ...               57   \n",
      "6          SE           43.0         SE      ...               47   \n",
      "7           E           41.0         SE      ...               57   \n",
      "8           S           48.0          E      ...               48   \n",
      "9           E           31.0          S      ...               32   \n",
      "\n",
      "   Pressure9am  Pressure3pm  Cloud9am  Cloud3pm  Temp9am  Temp3pm  RainToday  \\\n",
      "0       1019.7       1015.0         7         7     14.4     23.6         No   \n",
      "1       1012.4       1008.4         5         3     17.5     25.7        Yes   \n",
      "2       1009.5       1007.2         8         7     15.4     20.2        Yes   \n",
      "3       1005.5       1007.0         2         7     13.5     14.1        Yes   \n",
      "4       1018.3       1018.5         7         7     11.1     15.4        Yes   \n",
      "5       1023.8       1021.7         7         5     10.9     14.8         No   \n",
      "6       1024.6       1022.2         4         6     12.4     17.3         No   \n",
      "7       1026.2       1024.2         6         7     12.1     15.5         No   \n",
      "8       1026.1       1022.7         7         7     14.1     18.9         No   \n",
      "9       1024.1       1020.7         7         1     13.3     21.7        Yes   \n",
      "\n",
      "   RISK_MM  RainTomorrow  \n",
      "0      3.6           Yes  \n",
      "1      3.6           Yes  \n",
      "2     39.8           Yes  \n",
      "3      2.8           Yes  \n",
      "4      0.0            No  \n",
      "5      0.2            No  \n",
      "6      0.0            No  \n",
      "7      0.0            No  \n",
      "8     16.2           Yes  \n",
      "9      0.0            No  \n",
      "\n",
      "[10 rows x 24 columns]\n"
     ]
    }
   ],
   "source": [
    "# b.)\n",
    "\n",
    "print(df.head(10))"
   ]
  },
  {
   "cell_type": "code",
   "execution_count": 6,
   "metadata": {},
   "outputs": [
    {
     "name": "stdout",
     "output_type": "stream",
     "text": [
      "MinTemp             7.265574\n",
      "MaxTemp            20.550273\n",
      "Rainfall            1.428415\n",
      "Evaporation         4.521858\n",
      "Sunshine            7.909366\n",
      "WindGustSpeed      39.840659\n",
      "WindSpeed9am        9.651811\n",
      "WindSpeed3pm       17.986339\n",
      "Humidity9am        72.035519\n",
      "Humidity3pm        44.519126\n",
      "Pressure9am      1019.709016\n",
      "Pressure3pm      1016.810383\n",
      "Cloud9am            3.890710\n",
      "Cloud3pm            4.024590\n",
      "Temp9am            12.358470\n",
      "Temp3pm            19.230874\n",
      "RISK_MM             1.428415\n",
      "dtype: float64\n",
      "MinTemp           6.025800\n",
      "MaxTemp           6.690516\n",
      "Rainfall          4.225800\n",
      "Evaporation       2.669383\n",
      "Sunshine          3.481517\n",
      "WindGustSpeed    13.059807\n",
      "WindSpeed9am      7.951929\n",
      "WindSpeed3pm      8.856997\n",
      "Humidity9am      13.137058\n",
      "Humidity3pm      16.850947\n",
      "Pressure9am       6.686212\n",
      "Pressure3pm       6.469422\n",
      "Cloud9am          2.956131\n",
      "Cloud3pm          2.666268\n",
      "Temp9am           5.630832\n",
      "Temp3pm           6.640346\n",
      "RISK_MM           4.225800\n",
      "dtype: float64\n",
      "MinTemp           36.310264\n",
      "MaxTemp           44.763000\n",
      "Rainfall          17.857382\n",
      "Evaporation        7.125603\n",
      "Sunshine          12.120962\n",
      "WindGustSpeed    170.558563\n",
      "WindSpeed9am      63.233174\n",
      "WindSpeed3pm      78.446388\n",
      "Humidity9am      172.582297\n",
      "Humidity3pm      283.954428\n",
      "Pressure9am       44.705425\n",
      "Pressure3pm       41.853426\n",
      "Cloud9am           8.738708\n",
      "Cloud3pm           7.108983\n",
      "Temp9am           31.706271\n",
      "Temp3pm           44.094195\n",
      "RISK_MM           17.857382\n",
      "dtype: float64\n"
     ]
    }
   ],
   "source": [
    "# c.)\n",
    "\n",
    "print(df.mean())\n",
    "print(df.std())\n",
    "print(df.var())"
   ]
  },
  {
   "cell_type": "code",
   "execution_count": 7,
   "metadata": {},
   "outputs": [
    {
     "name": "stdout",
     "output_type": "stream",
     "text": [
      "           Date  Location  MinTemp  MaxTemp  Rainfall  Evaporation  Sunshine  \\\n",
      "361  10/27/2008  Canberra      9.0     30.7       0.0          7.6      12.1   \n",
      "362  10/28/2008  Canberra      7.1     28.4       0.0         11.6      12.7   \n",
      "363  10/29/2008  Canberra     12.5     19.9       0.0          8.4       5.3   \n",
      "364  10/30/2008  Canberra     12.5     26.9       0.0          5.0       7.1   \n",
      "365  10/31/2008  Canberra     12.3     30.2       0.0          6.0      12.6   \n",
      "\n",
      "    WindGustDir  WindGustSpeed WindDir9am      ...      Humidity3pm  \\\n",
      "361         NNW           76.0        SSE      ...               15   \n",
      "362           N           48.0        NNW      ...               22   \n",
      "363         ESE           43.0        ENE      ...               47   \n",
      "364          NW           46.0        SSW      ...               39   \n",
      "365          NW           78.0         NW      ...               13   \n",
      "\n",
      "     Pressure9am  Pressure3pm  Cloud9am  Cloud3pm  Temp9am  Temp3pm  \\\n",
      "361       1016.1       1010.8         1         3     20.4     30.0   \n",
      "362       1020.0       1016.9         0         1     17.2     28.2   \n",
      "363       1024.0       1022.8         3         2     14.5     18.3   \n",
      "364       1021.0       1016.2         6         7     15.8     25.9   \n",
      "365       1009.6       1009.2         1         1     23.8     28.6   \n",
      "\n",
      "     RainToday  RISK_MM  RainTomorrow  \n",
      "361         No      0.0            No  \n",
      "362         No      0.0            No  \n",
      "363         No      0.0            No  \n",
      "364         No      0.0            No  \n",
      "365         No      0.0            No  \n",
      "\n",
      "[5 rows x 24 columns]\n"
     ]
    }
   ],
   "source": [
    "# d.)\n",
    "\n",
    "print(df.tail())"
   ]
  },
  {
   "cell_type": "code",
   "execution_count": 8,
   "metadata": {},
   "outputs": [
    {
     "name": "stdout",
     "output_type": "stream",
     "text": [
      "7.265573770491811\n",
      "6.025799834253392\n",
      "36.3102636424882\n"
     ]
    }
   ],
   "source": [
    "# e.)\n",
    "\n",
    "print(df['MinTemp'].mean())\n",
    "print(df['MinTemp'].std())\n",
    "print(df['MinTemp'].var())"
   ]
  }
 ],
 "metadata": {
  "kernelspec": {
   "display_name": "Python 3",
   "language": "python",
   "name": "python3"
  },
  "language_info": {
   "codemirror_mode": {
    "name": "ipython",
    "version": 3
   },
   "file_extension": ".py",
   "mimetype": "text/x-python",
   "name": "python",
   "nbconvert_exporter": "python",
   "pygments_lexer": "ipython3",
   "version": "3.7.1"
  }
 },
 "nbformat": 4,
 "nbformat_minor": 2
}
